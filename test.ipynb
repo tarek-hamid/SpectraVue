{
 "cells": [
  {
   "cell_type": "code",
   "execution_count": 4,
   "id": "2e31f8a8",
   "metadata": {},
   "outputs": [],
   "source": [
    "import json\n",
    "import random"
   ]
  },
  {
   "cell_type": "code",
   "execution_count": 13,
   "id": "ce80801b",
   "metadata": {},
   "outputs": [],
   "source": [
    "def generate_synthetic_lumos_data(cycles):\n",
    "    '''\n",
    "        Given the number of cycles needed, generates synthetic Lumos in JSON format (for demo/testing purposes) as a text file\n",
    "        in the current directory. \n",
    "        \n",
    "        A random number is generated for each PD. Sampling time is static at 300ms per sample. \n",
    "        \n",
    "        Parameters: \n",
    "            cycles (integer): the number of cycles to generate. A cycle is defined as data for each LED/PD. \n",
    "        \n",
    "        Returns:\n",
    "            N/A\n",
    "    \n",
    "    '''\n",
    "    \n",
    "    LED_list = [460, 470, 530, 940, 580, 600, 633, 670, 415]\n",
    "\n",
    "    try:\n",
    "        with open('synthetic_data.txt', 'w') as file:\n",
    "            for _ in range(cycles):\n",
    "                for LED in LED_list:\n",
    "                    data = {\n",
    "                        \"F1_415nm\": random.randint(100, 10000),\n",
    "                        \"F2_445nm\": random.randint(100, 10000),\n",
    "                        \"F3_480nm\": random.randint(100, 10000),\n",
    "                        \"F4_515nm\": random.randint(100, 10000),\n",
    "                        \"F5_555nm\": random.randint(100, 10000),\n",
    "                        \"F6_590nm\": random.randint(100, 10000),\n",
    "                        \"F7_630nm\": random.randint(100, 10000),\n",
    "                        \"F8_680nm\": random.randint(100, 10000),\n",
    "                        \"Clear\": random.randint(100, 10000),\n",
    "                        \"NIR\": random.randint(100, 10000),\n",
    "                        \"LED\": LED,\n",
    "                        \"sampling_time_ms\": 300\n",
    "                    }\n",
    "                    file.write(json.dumps(data, indent=4))\n",
    "                    file.write(\"\\n\")\n",
    "\n",
    "    except Exception as e:\n",
    "        print(f\"An error occurred: {e}\")"
   ]
  },
  {
   "cell_type": "code",
   "execution_count": 14,
   "id": "8d2cdfc5",
   "metadata": {},
   "outputs": [],
   "source": [
    "generate_synthetic_lumos_data(100)"
   ]
  },
  {
   "cell_type": "code",
   "execution_count": null,
   "id": "0da4144d",
   "metadata": {},
   "outputs": [],
   "source": []
  }
 ],
 "metadata": {
  "kernelspec": {
   "display_name": "Python 3 (ipykernel)",
   "language": "python",
   "name": "python3"
  },
  "language_info": {
   "codemirror_mode": {
    "name": "ipython",
    "version": 3
   },
   "file_extension": ".py",
   "mimetype": "text/x-python",
   "name": "python",
   "nbconvert_exporter": "python",
   "pygments_lexer": "ipython3",
   "version": "3.9.12"
  }
 },
 "nbformat": 4,
 "nbformat_minor": 5
}
